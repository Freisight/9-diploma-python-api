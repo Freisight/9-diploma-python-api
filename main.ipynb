{
 "cells": [
  {
   "cell_type": "code",
   "execution_count": 6,
   "source": [
    "from tqdm.notebook import tqdm\n",
    "import time\n",
    "\n",
    "lists = [2,3,4,5,6,7,8]\n",
    "\n",
    "for i in tqdm(lists):\n",
    "    i\n",
    "    time.sleep(1)\n",
    "\n",
    "\n",
    "with open('token.txt', 'r') as file_object:\n",
    "    token = file_object.read().strip()"
   ],
   "outputs": [
    {
     "output_type": "display_data",
     "data": {
      "application/vnd.jupyter.widget-view+json": {
       "version_major": 2,
       "version_minor": 0,
       "model_id": "dd18ec1f0b3f469fbf5ec9ae4451f022"
      },
      "text/plain": [
       "  0%|          | 0/7 [00:00<?, ?it/s]"
      ]
     },
     "metadata": {}
    },
    {
     "output_type": "error",
     "ename": "KeyboardInterrupt",
     "evalue": "",
     "traceback": [
      "\u001b[0;31m---------------------------------------------------------------------------\u001b[0m",
      "\u001b[0;31mKeyboardInterrupt\u001b[0m                         Traceback (most recent call last)",
      "\u001b[0;32m<ipython-input-6-14939a4be844>\u001b[0m in \u001b[0;36m<module>\u001b[0;34m\u001b[0m\n\u001b[1;32m      6\u001b[0m \u001b[0;32mfor\u001b[0m \u001b[0mi\u001b[0m \u001b[0;32min\u001b[0m \u001b[0mtqdm\u001b[0m\u001b[0;34m(\u001b[0m\u001b[0mlists\u001b[0m\u001b[0;34m)\u001b[0m\u001b[0;34m:\u001b[0m\u001b[0;34m\u001b[0m\u001b[0;34m\u001b[0m\u001b[0m\n\u001b[1;32m      7\u001b[0m     \u001b[0mi\u001b[0m\u001b[0;34m\u001b[0m\u001b[0;34m\u001b[0m\u001b[0m\n\u001b[0;32m----> 8\u001b[0;31m     \u001b[0mtime\u001b[0m\u001b[0;34m.\u001b[0m\u001b[0msleep\u001b[0m\u001b[0;34m(\u001b[0m\u001b[0;36m1\u001b[0m\u001b[0;34m)\u001b[0m\u001b[0;34m\u001b[0m\u001b[0;34m\u001b[0m\u001b[0m\n\u001b[0m\u001b[1;32m      9\u001b[0m \u001b[0;34m\u001b[0m\u001b[0m\n\u001b[1;32m     10\u001b[0m \u001b[0;34m\u001b[0m\u001b[0m\n",
      "\u001b[0;31mKeyboardInterrupt\u001b[0m: "
     ]
    }
   ],
   "metadata": {}
  },
  {
   "cell_type": "code",
   "execution_count": 2,
   "source": [
    "import requests\n",
    "# импортируем pprint для более комфортного вывода информации\n",
    "from pprint import pprint\n",
    "\n",
    "URL = 'https://api.vk.com/method/users.get'\n",
    "params = {\n",
    "    'user_id': '552934290',\n",
    "    'access_token': token, # токен и версия api являются обязательными параметрами во всех запросах к vk\n",
    "    'v':'5.131'\n",
    "}\n",
    "res = requests.get(URL, params=params)\n",
    "\n",
    "\n",
    "pprint(res.json())"
   ],
   "outputs": [
    {
     "output_type": "stream",
     "name": "stdout",
     "text": [
      "{'response': [{'can_access_closed': True,\n",
      "               'first_name': 'Михаил',\n",
      "               'id': 552934290,\n",
      "               'is_closed': False,\n",
      "               'last_name': 'Афанасьевич'}]}\n"
     ]
    }
   ],
   "metadata": {}
  },
  {
   "cell_type": "code",
   "execution_count": 3,
   "source": [
    "def get_photo_info(owner, album):\n",
    "    URL = 'https://api.vk.com/method/photos.get'\n",
    "    params = {'owner_id': owner,\n",
    "                'album_id': album,\n",
    "                'photo_sizes': 1,\n",
    "                'access_token': token,\n",
    "                'v':'5.131',\n",
    "                'extended': 1}\n",
    "    photo_info = requests.get(URL, params=params)\n",
    "    return photo_info\n",
    "\n",
    "lol = get_photo_info(552934290, 'profile').json()\n",
    "\n",
    "pprint(lol['response'])"
   ],
   "outputs": [
    {
     "output_type": "stream",
     "name": "stdout",
     "text": [
      "{'count': 5,\n",
      " 'items': [{'album_id': -6,\n",
      "            'can_comment': 1,\n",
      "            'comments': {'count': 2},\n",
      "            'date': 1562944607,\n",
      "            'has_tags': False,\n",
      "            'id': 457239018,\n",
      "            'likes': {'count': 14, 'user_likes': 1},\n",
      "            'owner_id': 552934290,\n",
      "            'post_id': 1,\n",
      "            'reposts': {'count': 0},\n",
      "            'sizes': [{'height': 130,\n",
      "                       'type': 'm',\n",
      "                       'url': 'https://sun9-28.userapi.com/impf/c850732/v850732336/16fa43/3b7pxN3vzmI.jpg?size=130x130&quality=96&sign=3bc4940480ccdd72ed3a45c6ad0084c1&c_uniq_tag=_RwR_u87lbDr-wyd0SRMMmOD03HjPwjaPNW3PIcpwhc&type=album',\n",
      "                       'width': 130},\n",
      "                      {'height': 130,\n",
      "                       'type': 'o',\n",
      "                       'url': 'https://sun9-28.userapi.com/impf/c850732/v850732336/16fa43/3b7pxN3vzmI.jpg?size=130x130&quality=96&sign=3bc4940480ccdd72ed3a45c6ad0084c1&c_uniq_tag=_RwR_u87lbDr-wyd0SRMMmOD03HjPwjaPNW3PIcpwhc&type=album',\n",
      "                       'width': 130},\n",
      "                      {'height': 200,\n",
      "                       'type': 'p',\n",
      "                       'url': 'https://sun9-28.userapi.com/impf/c850732/v850732336/16fa43/3b7pxN3vzmI.jpg?size=200x200&quality=96&sign=80efe2ed29adbe6de06cac10aee879a7&c_uniq_tag=WgCZGiKoq-K1_xtzzqv2oaqqkfvmQwCLHtdpOnleQNY&type=album',\n",
      "                       'width': 200},\n",
      "                      {'height': 320,\n",
      "                       'type': 'q',\n",
      "                       'url': 'https://sun9-28.userapi.com/impf/c850732/v850732336/16fa43/3b7pxN3vzmI.jpg?size=320x320&quality=96&sign=da7466e3f78cf56e214bc715553a1437&c_uniq_tag=gbb55xTXsiSt6C_exRUm7_L3UmA1xteI575oImLzTMw&type=album',\n",
      "                       'width': 320},\n",
      "                      {'height': 400,\n",
      "                       'type': 'r',\n",
      "                       'url': 'https://sun9-28.userapi.com/impf/c850732/v850732336/16fa43/3b7pxN3vzmI.jpg?size=400x400&quality=96&sign=e43d16ae62020287b2e5ae9073d3f878&c_uniq_tag=5rB9bM19KvnvwLaYvsXilF2uT-MWISzsiNrvNJH65UQ&type=album',\n",
      "                       'width': 400},\n",
      "                      {'height': 75,\n",
      "                       'type': 's',\n",
      "                       'url': 'https://sun9-28.userapi.com/impf/c850732/v850732336/16fa43/3b7pxN3vzmI.jpg?size=75x75&quality=96&sign=b9af01f0e13dbb42217fb444fdbd06c6&c_uniq_tag=oj0Ay3xzmNMzHLjMsaCqUbHm1aOMjvlH-Q4xpTNXqk0&type=album',\n",
      "                       'width': 75},\n",
      "                      {'height': 400,\n",
      "                       'type': 'x',\n",
      "                       'url': 'https://sun9-28.userapi.com/impf/c850732/v850732336/16fa43/3b7pxN3vzmI.jpg?size=400x400&quality=96&sign=e43d16ae62020287b2e5ae9073d3f878&c_uniq_tag=5rB9bM19KvnvwLaYvsXilF2uT-MWISzsiNrvNJH65UQ&type=album',\n",
      "                       'width': 400}],\n",
      "            'tags': {'count': 0},\n",
      "            'text': ''},\n",
      "           {'album_id': -6,\n",
      "            'can_comment': 1,\n",
      "            'comments': {'count': 0},\n",
      "            'date': 1593979270,\n",
      "            'has_tags': False,\n",
      "            'id': 457239023,\n",
      "            'likes': {'count': 7, 'user_likes': 1},\n",
      "            'owner_id': 552934290,\n",
      "            'post_id': 9,\n",
      "            'reposts': {'count': 0},\n",
      "            'sizes': [{'height': 130,\n",
      "                       'type': 'm',\n",
      "                       'url': 'https://sun9-77.userapi.com/impg/oFiwQBOqvXfWUtxWvqxcMyvSeMIZhiK3ki9Ssw/1J6DiX6JDr8.jpg?size=130x130&quality=96&sign=99cb4b7f2111290dba886ff785055a5e&c_uniq_tag=1s3DcGCDfwJ-ZdF3VlCkYr8symlsm7og1BxPRm-DGnI&type=album',\n",
      "                       'width': 130},\n",
      "                      {'height': 130,\n",
      "                       'type': 'o',\n",
      "                       'url': 'https://sun9-77.userapi.com/impg/oFiwQBOqvXfWUtxWvqxcMyvSeMIZhiK3ki9Ssw/1J6DiX6JDr8.jpg?size=130x130&quality=96&sign=99cb4b7f2111290dba886ff785055a5e&c_uniq_tag=1s3DcGCDfwJ-ZdF3VlCkYr8symlsm7og1BxPRm-DGnI&type=album',\n",
      "                       'width': 130},\n",
      "                      {'height': 200,\n",
      "                       'type': 'p',\n",
      "                       'url': 'https://sun9-77.userapi.com/impg/oFiwQBOqvXfWUtxWvqxcMyvSeMIZhiK3ki9Ssw/1J6DiX6JDr8.jpg?size=200x200&quality=96&sign=cfe39814264e3db55710b04d8e4cbdf2&c_uniq_tag=8BVYhwFcdpTsMk77YzabMuIN1sR-3F_XJMnMzpsrktE&type=album',\n",
      "                       'width': 200},\n",
      "                      {'height': 320,\n",
      "                       'type': 'q',\n",
      "                       'url': 'https://sun9-77.userapi.com/impg/oFiwQBOqvXfWUtxWvqxcMyvSeMIZhiK3ki9Ssw/1J6DiX6JDr8.jpg?size=320x320&quality=96&sign=e5268e1bb2d1cb496634b67a36bfde48&c_uniq_tag=pEp3CiQN3--OKy7Os1EW48VcyBm0fKILonPS6-KFOMM&type=album',\n",
      "                       'width': 320},\n",
      "                      {'height': 510,\n",
      "                       'type': 'r',\n",
      "                       'url': 'https://sun9-77.userapi.com/impg/oFiwQBOqvXfWUtxWvqxcMyvSeMIZhiK3ki9Ssw/1J6DiX6JDr8.jpg?size=510x510&quality=96&sign=b2e41c13fdbdba9e815733ca456fe9cf&c_uniq_tag=XucgvdWlnSoTCeLaLbu1vP69vJqWMGB7Qiac6bWYWiQ&type=album',\n",
      "                       'width': 510},\n",
      "                      {'height': 75,\n",
      "                       'type': 's',\n",
      "                       'url': 'https://sun9-77.userapi.com/impg/oFiwQBOqvXfWUtxWvqxcMyvSeMIZhiK3ki9Ssw/1J6DiX6JDr8.jpg?size=75x75&quality=96&sign=ed2913d693ad03e9f38bf7a87c9d9f36&c_uniq_tag=1414Emj6d2RV47Ftfw-5mO3A1MtHvu_1CRPYfrwXwWY&type=album',\n",
      "                       'width': 75},\n",
      "                      {'height': 604,\n",
      "                       'type': 'x',\n",
      "                       'url': 'https://sun9-77.userapi.com/impg/oFiwQBOqvXfWUtxWvqxcMyvSeMIZhiK3ki9Ssw/1J6DiX6JDr8.jpg?size=604x604&quality=96&sign=56b9bc233c766b8accd74b6e775f4587&c_uniq_tag=Ju2W7dN9zd6MJWmiw75gOpFsunxs4OiQ8zVSFUboM60&type=album',\n",
      "                       'width': 604},\n",
      "                      {'height': 800,\n",
      "                       'type': 'y',\n",
      "                       'url': 'https://sun9-77.userapi.com/impg/oFiwQBOqvXfWUtxWvqxcMyvSeMIZhiK3ki9Ssw/1J6DiX6JDr8.jpg?size=800x800&quality=96&sign=bba662d0ca0bcff8ed8e4ab5e5b5266e&c_uniq_tag=9O-sXQPZSOpED9Mdsoml0by9HkDzYVIdQRX5htRO9_w&type=album',\n",
      "                       'width': 800}],\n",
      "            'tags': {'count': 0},\n",
      "            'text': ''},\n",
      "           {'album_id': -6,\n",
      "            'can_comment': 1,\n",
      "            'comments': {'count': 1},\n",
      "            'date': 1594036409,\n",
      "            'has_tags': False,\n",
      "            'id': 457239027,\n",
      "            'likes': {'count': 5, 'user_likes': 0},\n",
      "            'owner_id': 552934290,\n",
      "            'post_id': 11,\n",
      "            'reposts': {'count': 0},\n",
      "            'sizes': [{'height': 130,\n",
      "                       'type': 'm',\n",
      "                       'url': 'https://sun9-86.userapi.com/impg/9ArHk5QgSaCV92n0W_V0AiB9qcVaaF2dSBGhKQ/LgiiF_lk2DM.jpg?size=97x130&quality=96&sign=94c30845309b10f977d006add793078b&c_uniq_tag=OTV_2FAWocDTTnKu_TFhFnsPmGC4LBVCT3dUyqoXsLE&type=album',\n",
      "                       'width': 97},\n",
      "                      {'height': 173,\n",
      "                       'type': 'o',\n",
      "                       'url': 'https://sun9-86.userapi.com/impg/9ArHk5QgSaCV92n0W_V0AiB9qcVaaF2dSBGhKQ/LgiiF_lk2DM.jpg?size=130x173&quality=96&sign=b29a8e6fc85a9cca2c468b610cd4bd56&c_uniq_tag=gE9mqGi4OQFzb_B91UbgpCsUl7yeSRRKGWw6lp5XIZw&type=album',\n",
      "                       'width': 130},\n",
      "                      {'height': 267,\n",
      "                       'type': 'p',\n",
      "                       'url': 'https://sun9-86.userapi.com/impg/9ArHk5QgSaCV92n0W_V0AiB9qcVaaF2dSBGhKQ/LgiiF_lk2DM.jpg?size=200x267&quality=96&sign=16bf1adfd40384a009ddec830707426a&c_uniq_tag=p_LdfLuJjOg9cNr-Xz8dYDluhcrNg-8YlJ6vm9fAMaE&type=album',\n",
      "                       'width': 200},\n",
      "                      {'height': 427,\n",
      "                       'type': 'q',\n",
      "                       'url': 'https://sun9-86.userapi.com/impg/9ArHk5QgSaCV92n0W_V0AiB9qcVaaF2dSBGhKQ/LgiiF_lk2DM.jpg?size=320x427&quality=96&sign=f17ee862657870faf88041a068024ebb&c_uniq_tag=GxfqzStINPGyfSG-4mvUmoa6ok3x8VFShqSLzps4RY8&type=album',\n",
      "                       'width': 320},\n",
      "                      {'height': 680,\n",
      "                       'type': 'r',\n",
      "                       'url': 'https://sun9-86.userapi.com/impg/9ArHk5QgSaCV92n0W_V0AiB9qcVaaF2dSBGhKQ/LgiiF_lk2DM.jpg?size=510x680&quality=96&sign=0fc8397ac3020bca4152289aa318922e&c_uniq_tag=pbxaTD2OiKoLaa0xBJK1S9ynfobGZJ1enIl124Y8ooI&type=album',\n",
      "                       'width': 510},\n",
      "                      {'height': 75,\n",
      "                       'type': 's',\n",
      "                       'url': 'https://sun9-86.userapi.com/impg/9ArHk5QgSaCV92n0W_V0AiB9qcVaaF2dSBGhKQ/LgiiF_lk2DM.jpg?size=56x75&quality=96&sign=38367b4dc760a0043b4a149c8e47244a&c_uniq_tag=Px4F2Oot2kjXKLJzHQ1m6uQ3tcKd0fFB9SPytbUqj8E&type=album',\n",
      "                       'width': 56},\n",
      "                      {'height': 604,\n",
      "                       'type': 'x',\n",
      "                       'url': 'https://sun9-86.userapi.com/impg/9ArHk5QgSaCV92n0W_V0AiB9qcVaaF2dSBGhKQ/LgiiF_lk2DM.jpg?size=453x604&quality=96&sign=76f753e6ced2c6a026e7f1f82b05c8fe&c_uniq_tag=oMZUgEQdsaBRE4qFIHl3jMxrQ9pVFfBNl2HWXjIGj8M&type=album',\n",
      "                       'width': 453},\n",
      "                      {'height': 800,\n",
      "                       'type': 'y',\n",
      "                       'url': 'https://sun9-86.userapi.com/impg/9ArHk5QgSaCV92n0W_V0AiB9qcVaaF2dSBGhKQ/LgiiF_lk2DM.jpg?size=600x800&quality=96&sign=a44427270a7788fdb76b0e2589d51cb5&c_uniq_tag=Z2_Y9Kv7_OViwTUaM3bpDBIMDjhy3tNefi1L34Ns5Z0&type=album',\n",
      "                       'width': 600}],\n",
      "            'tags': {'count': 0},\n",
      "            'text': ''},\n",
      "           {'album_id': -6,\n",
      "            'can_comment': 1,\n",
      "            'comments': {'count': 1},\n",
      "            'date': 1594036429,\n",
      "            'has_tags': False,\n",
      "            'id': 457239029,\n",
      "            'likes': {'count': 5, 'user_likes': 0},\n",
      "            'owner_id': 552934290,\n",
      "            'post_id': 12,\n",
      "            'reposts': {'count': 0},\n",
      "            'sizes': [{'height': 130,\n",
      "                       'type': 'm',\n",
      "                       'url': 'https://sun9-86.userapi.com/impg/9ArHk5QgSaCV92n0W_V0AiB9qcVaaF2dSBGhKQ/LgiiF_lk2DM.jpg?size=97x130&quality=96&sign=94c30845309b10f977d006add793078b&c_uniq_tag=OTV_2FAWocDTTnKu_TFhFnsPmGC4LBVCT3dUyqoXsLE&type=album',\n",
      "                       'width': 97},\n",
      "                      {'height': 173,\n",
      "                       'type': 'o',\n",
      "                       'url': 'https://sun9-86.userapi.com/impg/9ArHk5QgSaCV92n0W_V0AiB9qcVaaF2dSBGhKQ/LgiiF_lk2DM.jpg?size=130x173&quality=96&sign=b29a8e6fc85a9cca2c468b610cd4bd56&c_uniq_tag=gE9mqGi4OQFzb_B91UbgpCsUl7yeSRRKGWw6lp5XIZw&type=album',\n",
      "                       'width': 130},\n",
      "                      {'height': 267,\n",
      "                       'type': 'p',\n",
      "                       'url': 'https://sun9-86.userapi.com/impg/9ArHk5QgSaCV92n0W_V0AiB9qcVaaF2dSBGhKQ/LgiiF_lk2DM.jpg?size=200x267&quality=96&sign=16bf1adfd40384a009ddec830707426a&c_uniq_tag=p_LdfLuJjOg9cNr-Xz8dYDluhcrNg-8YlJ6vm9fAMaE&type=album',\n",
      "                       'width': 200},\n",
      "                      {'height': 427,\n",
      "                       'type': 'q',\n",
      "                       'url': 'https://sun9-86.userapi.com/impg/9ArHk5QgSaCV92n0W_V0AiB9qcVaaF2dSBGhKQ/LgiiF_lk2DM.jpg?size=320x427&quality=96&sign=f17ee862657870faf88041a068024ebb&c_uniq_tag=GxfqzStINPGyfSG-4mvUmoa6ok3x8VFShqSLzps4RY8&type=album',\n",
      "                       'width': 320},\n",
      "                      {'height': 680,\n",
      "                       'type': 'r',\n",
      "                       'url': 'https://sun9-86.userapi.com/impg/9ArHk5QgSaCV92n0W_V0AiB9qcVaaF2dSBGhKQ/LgiiF_lk2DM.jpg?size=510x680&quality=96&sign=0fc8397ac3020bca4152289aa318922e&c_uniq_tag=pbxaTD2OiKoLaa0xBJK1S9ynfobGZJ1enIl124Y8ooI&type=album',\n",
      "                       'width': 510},\n",
      "                      {'height': 75,\n",
      "                       'type': 's',\n",
      "                       'url': 'https://sun9-86.userapi.com/impg/9ArHk5QgSaCV92n0W_V0AiB9qcVaaF2dSBGhKQ/LgiiF_lk2DM.jpg?size=56x75&quality=96&sign=38367b4dc760a0043b4a149c8e47244a&c_uniq_tag=Px4F2Oot2kjXKLJzHQ1m6uQ3tcKd0fFB9SPytbUqj8E&type=album',\n",
      "                       'width': 56},\n",
      "                      {'height': 604,\n",
      "                       'type': 'x',\n",
      "                       'url': 'https://sun9-86.userapi.com/impg/9ArHk5QgSaCV92n0W_V0AiB9qcVaaF2dSBGhKQ/LgiiF_lk2DM.jpg?size=453x604&quality=96&sign=76f753e6ced2c6a026e7f1f82b05c8fe&c_uniq_tag=oMZUgEQdsaBRE4qFIHl3jMxrQ9pVFfBNl2HWXjIGj8M&type=album',\n",
      "                       'width': 453},\n",
      "                      {'height': 800,\n",
      "                       'type': 'y',\n",
      "                       'url': 'https://sun9-86.userapi.com/impg/9ArHk5QgSaCV92n0W_V0AiB9qcVaaF2dSBGhKQ/LgiiF_lk2DM.jpg?size=600x800&quality=96&sign=a44427270a7788fdb76b0e2589d51cb5&c_uniq_tag=Z2_Y9Kv7_OViwTUaM3bpDBIMDjhy3tNefi1L34Ns5Z0&type=album',\n",
      "                       'width': 600}],\n",
      "            'tags': {'count': 0},\n",
      "            'text': ''},\n",
      "           {'album_id': -6,\n",
      "            'can_comment': 1,\n",
      "            'comments': {'count': 0},\n",
      "            'date': 1594036496,\n",
      "            'has_tags': False,\n",
      "            'id': 457239031,\n",
      "            'likes': {'count': 5, 'user_likes': 1},\n",
      "            'owner_id': 552934290,\n",
      "            'post_id': 13,\n",
      "            'reposts': {'count': 0},\n",
      "            'sizes': [{'height': 130,\n",
      "                       'type': 'm',\n",
      "                       'url': 'https://sun9-48.userapi.com/impg/hZBImqkCXbzy3VGIhn30Jj4P3RWurerkaZZSnw/oDCgWwpSe34.jpg?size=93x130&quality=96&sign=3dac1ae321d23827ed0019b3207952bf&c_uniq_tag=UwIbBWt4YlQqygt3LKp8FDc3f-fUPxkvIXCasCTmQqo&type=album',\n",
      "                       'width': 93},\n",
      "                      {'height': 181,\n",
      "                       'type': 'o',\n",
      "                       'url': 'https://sun9-48.userapi.com/impg/hZBImqkCXbzy3VGIhn30Jj4P3RWurerkaZZSnw/oDCgWwpSe34.jpg?size=130x181&quality=96&sign=a1262fb6174257b2b829e0b81921c50a&c_uniq_tag=NNiOgLf70pdxIotkb0hWt7BDIUSsoxgn-ZBb3iaaLmA&type=album',\n",
      "                       'width': 130},\n",
      "                      {'height': 278,\n",
      "                       'type': 'p',\n",
      "                       'url': 'https://sun9-48.userapi.com/impg/hZBImqkCXbzy3VGIhn30Jj4P3RWurerkaZZSnw/oDCgWwpSe34.jpg?size=200x278&quality=96&sign=d0b59168d2a1c3a2f125988312ecf05e&c_uniq_tag=nXyFN2zg-kxBGOb9PI1wjf6Y5YgRFedWdUSGnz2iWwU&type=album',\n",
      "                       'width': 200},\n",
      "                      {'height': 445,\n",
      "                       'type': 'q',\n",
      "                       'url': 'https://sun9-48.userapi.com/impg/hZBImqkCXbzy3VGIhn30Jj4P3RWurerkaZZSnw/oDCgWwpSe34.jpg?size=320x445&quality=96&sign=ee6b4c19f73ded94889bec62763301f5&c_uniq_tag=kBbHl4BjKWIoSRKtAuqOAd-Bi2t99kvhELpTzfu-_SY&type=album',\n",
      "                       'width': 320},\n",
      "                      {'height': 710,\n",
      "                       'type': 'r',\n",
      "                       'url': 'https://sun9-48.userapi.com/impg/hZBImqkCXbzy3VGIhn30Jj4P3RWurerkaZZSnw/oDCgWwpSe34.jpg?size=510x709&quality=96&sign=b1d59df73bfc74d20054fbf009022784&c_uniq_tag=gtNo2-fnyw-7H0t2Qw2NZab1tg5oAFiIXqIa0Ooa1ac&type=album',\n",
      "                       'width': 510},\n",
      "                      {'height': 75,\n",
      "                       'type': 's',\n",
      "                       'url': 'https://sun9-48.userapi.com/impg/hZBImqkCXbzy3VGIhn30Jj4P3RWurerkaZZSnw/oDCgWwpSe34.jpg?size=54x75&quality=96&sign=a8c497e1c1ff6c29842029a53eab4591&c_uniq_tag=ebvZ0I7BKNoIIkwit3IPShWn2S601bSGcR6PCbR_tEQ&type=album',\n",
      "                       'width': 54},\n",
      "                      {'height': 1096,\n",
      "                       'type': 'w',\n",
      "                       'url': 'https://sun9-48.userapi.com/impg/hZBImqkCXbzy3VGIhn30Jj4P3RWurerkaZZSnw/oDCgWwpSe34.jpg?size=788x1096&quality=96&sign=c4dd55f91ae178aa6f6ad6c14ce6cd4c&c_uniq_tag=u7Tqeio-kEtrWqLTPywWPFhhGHGuWuqONBJ7tdKCUAs&type=album',\n",
      "                       'width': 788},\n",
      "                      {'height': 604,\n",
      "                       'type': 'x',\n",
      "                       'url': 'https://sun9-48.userapi.com/impg/hZBImqkCXbzy3VGIhn30Jj4P3RWurerkaZZSnw/oDCgWwpSe34.jpg?size=434x604&quality=96&sign=d9315b8bfdc60d0fcadb02c576d2f8c2&c_uniq_tag=8Qo-sT8rkJaKLufskYCfJgJtsRb8FVptHbFutGyg6gg&type=album',\n",
      "                       'width': 434},\n",
      "                      {'height': 807,\n",
      "                       'type': 'y',\n",
      "                       'url': 'https://sun9-48.userapi.com/impg/hZBImqkCXbzy3VGIhn30Jj4P3RWurerkaZZSnw/oDCgWwpSe34.jpg?size=580x807&quality=96&sign=e2d576d1b2cf05e8e8b9d9be2b4b2fb8&c_uniq_tag=UzBC-6GSTe_a1WxqGKsHwPyCUsS0NgHsvI_yuaG5BkQ&type=album',\n",
      "                       'width': 580},\n",
      "                      {'height': 1080,\n",
      "                       'type': 'z',\n",
      "                       'url': 'https://sun9-48.userapi.com/impg/hZBImqkCXbzy3VGIhn30Jj4P3RWurerkaZZSnw/oDCgWwpSe34.jpg?size=776x1080&quality=96&sign=dfa7e2744b632bcb9f98207fcbcd7e2e&c_uniq_tag=-OIhBF6MeG1Enc-LtRLB6cSUcbp87ZWbwyKmvMApZEM&type=album',\n",
      "                       'width': 776}],\n",
      "            'tags': {'count': 0},\n",
      "            'text': ''}]}\n"
     ]
    }
   ],
   "metadata": {}
  },
  {
   "cell_type": "code",
   "execution_count": 88,
   "source": [
    "pprint(lol['response']['items'][2]['sizes'][-1]['url'])"
   ],
   "outputs": [
    {
     "output_type": "stream",
     "name": "stdout",
     "text": [
      "'https://sun9-86.userapi.com/impg/9ArHk5QgSaCV92n0W_V0AiB9qcVaaF2dSBGhKQ/LgiiF_lk2DM.jpg?size=600x800&quality=96&sign=a44427270a7788fdb76b0e2589d51cb5&c_uniq_tag=Z2_Y9Kv7_OViwTUaM3bpDBIMDjhy3tNefi1L34Ns5Z0&type=album'\n"
     ]
    }
   ],
   "metadata": {}
  },
  {
   "cell_type": "code",
   "execution_count": 89,
   "source": [
    "pprint(lol['response']['items'][2]['likes']['count'])"
   ],
   "outputs": [
    {
     "output_type": "stream",
     "name": "stdout",
     "text": [
      "5\n"
     ]
    }
   ],
   "metadata": {}
  },
  {
   "cell_type": "code",
   "execution_count": 90,
   "source": [
    "pprint(lol['response']['items'][2]['date'])"
   ],
   "outputs": [
    {
     "output_type": "stream",
     "name": "stdout",
     "text": [
      "1594036409\n"
     ]
    }
   ],
   "metadata": {}
  },
  {
   "cell_type": "code",
   "execution_count": null,
   "source": [
    "# \n",
    "\n",
    "profile"
   ],
   "outputs": [],
   "metadata": {}
  }
 ],
 "metadata": {
  "orig_nbformat": 4,
  "language_info": {
   "name": "python",
   "version": "3.8.8",
   "mimetype": "text/x-python",
   "codemirror_mode": {
    "name": "ipython",
    "version": 3
   },
   "pygments_lexer": "ipython3",
   "nbconvert_exporter": "python",
   "file_extension": ".py"
  },
  "kernelspec": {
   "name": "python3",
   "display_name": "Python 3.8.8 64-bit ('base': conda)"
  },
  "interpreter": {
   "hash": "08bdbe18a0bd1ff1aa548415cfeb3ea8c0b6bbca5c0cb6370c409ba657df1827"
  }
 },
 "nbformat": 4,
 "nbformat_minor": 2
}
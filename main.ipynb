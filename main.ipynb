{
 "cells": [
  {
   "cell_type": "code",
   "execution_count": 1,
   "metadata": {},
   "outputs": [],
   "source": [
    "# from tqdm.notebook import tqdm\n",
    "# import time\n",
    "\n",
    "# lists = [2,3,4,5,6,7,8]\n",
    "\n",
    "# for i in tqdm(lists):\n",
    "#     i\n",
    "#     time.sleep(1)\n",
    "\n",
    "\n",
    "with open('token.txt', 'r') as file_object:\n",
    "    token = file_object.read().strip()"
   ]
  },
  {
   "cell_type": "code",
   "execution_count": 2,
   "metadata": {},
   "outputs": [
    {
     "name": "stdout",
     "output_type": "stream",
     "text": [
      "{'response': [{'can_access_closed': True,\n",
      "               'first_name': 'Михаил',\n",
      "               'id': 552934290,\n",
      "               'is_closed': False,\n",
      "               'last_name': 'Афанасьевич'}]}\n"
     ]
    }
   ],
   "source": [
    "import requests\n",
    "# импортируем pprint для более комфортного вывода информации\n",
    "from pprint import pprint\n",
    "\n",
    "URL = 'https://api.vk.com/method/users.get'\n",
    "params = {\n",
    "    'user_id': '552934290',\n",
    "    'access_token': token, # токен и версия api являются обязательными параметрами во всех запросах к vk\n",
    "    'v':'5.131'\n",
    "}\n",
    "res = requests.get(URL, params=params)\n",
    "\n",
    "\n",
    "pprint(res.json())"
   ]
  },
  {
   "cell_type": "code",
   "execution_count": null,
   "metadata": {},
   "outputs": [],
   "source": [
    "def get_photo_user(owner, album):\n",
    "    URL = 'https://api.vk.com/method/photos.get'\n",
    "    params = {'owner_id': owner,\n",
    "                'album_id': album,\n",
    "                'photo_sizes': 1,\n",
    "                'access_token': token,\n",
    "                'v':'5.131',\n",
    "                'extended': 1}\n",
    "    photo_info = requests.get(URL, params=params)\n",
    "    return photo_info\n",
    "\n",
    "photos = get_photo_user(552934290, 'profile').json()\n",
    "\n",
    "pprint(photos['response'])"
   ]
  },
  {
   "cell_type": "code",
   "execution_count": 13,
   "metadata": {},
   "outputs": [
    {
     "name": "stdout",
     "output_type": "stream",
     "text": [
      "'https://sun9-86.userapi.com/impg/9ArHk5QgSaCV92n0W_V0AiB9qcVaaF2dSBGhKQ/LgiiF_lk2DM.jpg?size=600x800&quality=96&sign=a44427270a7788fdb76b0e2589d51cb5&c_uniq_tag=Z2_Y9Kv7_OViwTUaM3bpDBIMDjhy3tNefi1L34Ns5Z0&type=album'\n"
     ]
    }
   ],
   "source": [
    "pprint(photos['response']['items'][2]['sizes'][-1]['url'])"
   ]
  },
  {
   "cell_type": "code",
   "execution_count": 14,
   "metadata": {},
   "outputs": [
    {
     "name": "stdout",
     "output_type": "stream",
     "text": [
      "5\n"
     ]
    }
   ],
   "source": [
    "pprint(photos['response']['items'][2]['likes']['count'])"
   ]
  },
  {
   "cell_type": "code",
   "execution_count": 15,
   "metadata": {},
   "outputs": [
    {
     "name": "stdout",
     "output_type": "stream",
     "text": [
      "1594036409\n"
     ]
    }
   ],
   "source": [
    "pprint(photos['response']['items'][2]['date'])"
   ]
  },
  {
   "cell_type": "code",
   "execution_count": 45,
   "metadata": {},
   "outputs": [
    {
     "name": "stdout",
     "output_type": "stream",
     "text": [
      "{5: 'https://sun9-86.userapi.com/impg/9ArHk5QgSaCV92n0W_V0AiB9qcVaaF2dSBGhKQ/LgiiF_lk2DM.jpg?size=600x800&quality=96&sign=a44427270a7788fdb76b0e2589d51cb5&c_uniq_tag=Z2_Y9Kv7_OViwTUaM3bpDBIMDjhy3tNefi1L34Ns5Z0&type=album',\n",
      " 7: 'https://sun9-77.userapi.com/impg/oFiwQBOqvXfWUtxWvqxcMyvSeMIZhiK3ki9Ssw/1J6DiX6JDr8.jpg?size=800x800&quality=96&sign=bba662d0ca0bcff8ed8e4ab5e5b5266e&c_uniq_tag=9O-sXQPZSOpED9Mdsoml0by9HkDzYVIdQRX5htRO9_w&type=album',\n",
      " 14: 'https://sun9-28.userapi.com/impf/c850732/v850732336/16fa43/3b7pxN3vzmI.jpg?size=400x400&quality=96&sign=e43d16ae62020287b2e5ae9073d3f878&c_uniq_tag=5rB9bM19KvnvwLaYvsXilF2uT-MWISzsiNrvNJH65UQ&type=album',\n",
      " '5_1594036429': 'https://sun9-86.userapi.com/impg/9ArHk5QgSaCV92n0W_V0AiB9qcVaaF2dSBGhKQ/LgiiF_lk2DM.jpg?size=600x800&quality=96&sign=a44427270a7788fdb76b0e2589d51cb5&c_uniq_tag=Z2_Y9Kv7_OViwTUaM3bpDBIMDjhy3tNefi1L34Ns5Z0&type=album',\n",
      " '5_1594036496': 'https://sun9-48.userapi.com/impg/hZBImqkCXbzy3VGIhn30Jj4P3RWurerkaZZSnw/oDCgWwpSe34.jpg?size=776x1080&quality=96&sign=dfa7e2744b632bcb9f98207fcbcd7e2e&c_uniq_tag=-OIhBF6MeG1Enc-LtRLB6cSUcbp87ZWbwyKmvMApZEM&type=album'}\n"
     ]
    }
   ],
   "source": [
    "link_and_date = {}\n",
    "\n",
    "for i in range(5):\n",
    "    if photos['response']['items'][i]['likes']['count'] not in link_and_date:\n",
    "        link_and_date[photos['response']['items'][i]['likes']['count']] = photos['response']['items'][i]['sizes'][-1]['url']\n",
    "    elif photos['response']['items'][i]['likes']['count'] in link_and_date:\n",
    "        link_and_date[str(photos['response']['items'][i]['likes']['count']) + '_' + str(photos['response']['items'][i]['date'])] = photos['response']['items'][i]['sizes'][-1]['url']\n",
    "\n",
    "pprint(link_and_date)\n",
    "\n",
    "# "
   ]
  },
  {
   "cell_type": "code",
   "execution_count": 85,
   "metadata": {},
   "outputs": [
    {
     "name": "stdout",
     "output_type": "stream",
     "text": [
      "{5: 'https://sun9-86.userapi.com/impg/9ArHk5QgSaCV92n0W_V0AiB9qcVaaF2dSBGhKQ/LgiiF_lk2DM.jpg?size=600x800&quality=96&sign=a44427270a7788fdb76b0e2589d51cb5&c_uniq_tag=Z2_Y9Kv7_OViwTUaM3bpDBIMDjhy3tNefi1L34Ns5Z0&type=album',\n",
      " 7: 'https://sun9-77.userapi.com/impg/oFiwQBOqvXfWUtxWvqxcMyvSeMIZhiK3ki9Ssw/1J6DiX6JDr8.jpg?size=800x800&quality=96&sign=bba662d0ca0bcff8ed8e4ab5e5b5266e&c_uniq_tag=9O-sXQPZSOpED9Mdsoml0by9HkDzYVIdQRX5htRO9_w&type=album',\n",
      " 14: 'https://sun9-28.userapi.com/impf/c850732/v850732336/16fa43/3b7pxN3vzmI.jpg?size=400x400&quality=96&sign=e43d16ae62020287b2e5ae9073d3f878&c_uniq_tag=5rB9bM19KvnvwLaYvsXilF2uT-MWISzsiNrvNJH65UQ&type=album',\n",
      " '5_1594036429': 'https://sun9-86.userapi.com/impg/9ArHk5QgSaCV92n0W_V0AiB9qcVaaF2dSBGhKQ/LgiiF_lk2DM.jpg?size=600x800&quality=96&sign=a44427270a7788fdb76b0e2589d51cb5&c_uniq_tag=Z2_Y9Kv7_OViwTUaM3bpDBIMDjhy3tNefi1L34Ns5Z0&type=album',\n",
      " '5_1594036496': 'https://sun9-48.userapi.com/impg/hZBImqkCXbzy3VGIhn30Jj4P3RWurerkaZZSnw/oDCgWwpSe34.jpg?size=776x1080&quality=96&sign=dfa7e2744b632bcb9f98207fcbcd7e2e&c_uniq_tag=-OIhBF6MeG1Enc-LtRLB6cSUcbp87ZWbwyKmvMApZEM&type=album'}\n",
      "profile\n"
     ]
    }
   ],
   "source": [
    "import requests\n",
    "from pprint import pprint\n",
    "\n",
    "with open('token.txt', 'r') as file_object:\n",
    "    token_vk = file_object.read().strip()\n",
    "\n",
    "\n",
    "class Get_last_photo:\n",
    "    def __init__(self, token, owner, album):\n",
    "        self.token = token\n",
    "        self.owner = owner\n",
    "        self.album = album\n",
    "\n",
    "    def get_links(self):\n",
    "        all_links = {}\n",
    "        URL = 'https://api.vk.com/method/photos.get'\n",
    "        params = {'owner_id': self.owner,\n",
    "                    'album_id': self.album,\n",
    "                    'photo_sizes': 1,\n",
    "                    'access_token': self.token,\n",
    "                    'v':'5.131',\n",
    "                    'extended': 1}\n",
    "\n",
    "        all_photo = requests.get(URL, params=params).json()\n",
    "\n",
    "        # из запроса выдёргиваем все нужные фотографии и запихиваем их в словарь с ссылками и названием файла в виде лайков или даты\n",
    "        for i in range(5):\n",
    "            if all_photo['response']['items'][i]['likes']['count'] not in all_links:\n",
    "                all_links[all_photo['response']['items'][i]['likes']['count']] = all_photo['response']['items'][i]['sizes'][-1]['url']\n",
    "            elif all_photo['response']['items'][i]['likes']['count'] in all_links:\n",
    "                all_links[str(all_photo['response']['items'][i]['likes']['count']) + '_' + str(all_photo['response']['items'][i]['date'])] = all_photo['response']['items'][i]['sizes'][-1]['url']\n",
    "\n",
    "        return all_links\n",
    "\n",
    "\n",
    "\n",
    "bulgakov = Get_last_photo(token_vk, 552934290, 'profile')\n",
    "links = bulgakov.get_links()\n",
    "pprint(links)\n",
    "print(bulgakov.album)\n",
    "\n",
    "\n",
    "\n"
   ]
  }
 ],
 "metadata": {
  "interpreter": {
   "hash": "133ec6f42bf452a88d9b72b88385391844c441d2b492570d51110c887fbe3ef6"
  },
  "kernelspec": {
   "display_name": "Python 3.9.7 64-bit",
   "name": "python3"
  },
  "language_info": {
   "codemirror_mode": {
    "name": "ipython",
    "version": 3
   },
   "file_extension": ".py",
   "mimetype": "text/x-python",
   "name": "python",
   "nbconvert_exporter": "python",
   "pygments_lexer": "ipython3",
   "version": "3.9.7"
  },
  "orig_nbformat": 4
 },
 "nbformat": 4,
 "nbformat_minor": 2
}

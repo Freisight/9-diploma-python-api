{
 "cells": [
  {
   "cell_type": "code",
   "execution_count": 1,
   "source": [
    "with open('token.txt', 'r') as file_object:\r\n",
    "    token = file_object.read().strip()"
   ],
   "outputs": [],
   "metadata": {}
  },
  {
   "cell_type": "code",
   "execution_count": 17,
   "source": [
    "import requests\r\n",
    "# импортируем pprint для более комфортного вывода информации\r\n",
    "from pprint import pprint\r\n",
    "\r\n",
    "URL = 'https://api.vk.com/method/photos.get'\r\n",
    "params = {\r\n",
    "    'owner_id': '552934290',\r\n",
    "    'album_id': \"457239031\",\r\n",
    "    'access_token': token, # токен и версия api являются обязательными параметрами во всех запросах к vk\r\n",
    "    'v':'5.131'\r\n",
    "}\r\n",
    "res = requests.get(URL, params=params)\r\n",
    "\r\n",
    "\r\n",
    "pprint(res.json())"
   ],
   "outputs": [
    {
     "output_type": "stream",
     "name": "stdout",
     "text": [
      "{'error': {'error_code': 200,\n",
      "           'error_msg': 'Access denied',\n",
      "           'request_params': [{'key': 'owner_id', 'value': '552934290'},\n",
      "                              {'key': 'album_id', 'value': '457239031'},\n",
      "                              {'key': 'v', 'value': '5.131'},\n",
      "                              {'key': 'method', 'value': 'photos.get'},\n",
      "                              {'key': 'oauth', 'value': '1'}]}}\n"
     ]
    }
   ],
   "metadata": {}
  },
  {
   "cell_type": "code",
   "execution_count": 20,
   "source": [
    "def get_photo_info(owner, album):\r\n",
    "    url = 'https://api.vk.com/method/photos.get'\r\n",
    "    params = {'owner_id': owner,\r\n",
    "                'album_id': album,\r\n",
    "                'photo_sizes': 1,\r\n",
    "                'extended': 1}\r\n",
    "    photo_info = requests.get(URL, params=params)\r\n",
    "    print(photo_info)\r\n",
    "\r\n",
    "get_photo_info(552934290, 457239031)"
   ],
   "outputs": [
    {
     "output_type": "stream",
     "name": "stdout",
     "text": [
      "<Response [200]>\n"
     ]
    }
   ],
   "metadata": {}
  }
 ],
 "metadata": {
  "orig_nbformat": 4,
  "language_info": {
   "name": "python",
   "version": "3.9.7",
   "mimetype": "text/x-python",
   "codemirror_mode": {
    "name": "ipython",
    "version": 3
   },
   "pygments_lexer": "ipython3",
   "nbconvert_exporter": "python",
   "file_extension": ".py"
  },
  "kernelspec": {
   "name": "python3",
   "display_name": "Python 3.9.7 64-bit"
  },
  "interpreter": {
   "hash": "9b5f83b344a52054a3a9074b75af64560c9cc7d488f61dbda98e94748ab87727"
  }
 },
 "nbformat": 4,
 "nbformat_minor": 2
}